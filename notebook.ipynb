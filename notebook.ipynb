{
 "cells": [
  {
   "cell_type": "code",
   "execution_count": 11,
   "metadata": {},
   "outputs": [
    {
     "name": "stdout",
     "output_type": "stream",
     "text": [
      "Predictions: [24.0, 22.0, 23.0, 25.0, 24.0, 24.0, 24.0, 24.0, 22.0, 22.0, 23.0, 22.0, 24.0, 24.0, 25.0, 24.0, 24.0, 24.0, 22.0, 25.0, 22.0, 22.0, 24.0, 24.0, 24.0, 22.0, 24.0, 24.0, 24.0, 24.0]\n",
      "Median: 24.0\n",
      "95% CI: [22. 25.]\n"
     ]
    }
   ],
   "source": [
    "import openai\n",
    "import numpy as np\n",
    "from dotenv import load_dotenv\n",
    "import os\n",
    "\n",
    "# Load .env file\n",
    "load_dotenv()\n",
    "\n",
    "# Set the API key from environment variable\n",
    "openai.api_key = os.getenv(\"OPENAI_API_KEY\")\n",
    "\n",
    "def get_prediction(prompt, samples=30, temperature=0.7):\n",
    "    outputs = []\n",
    "    for _ in range(samples):\n",
    "        response = openai.ChatCompletion.create(\n",
    "            model=\"gpt-4\",\n",
    "            messages=[{\"role\": \"user\", \"content\": prompt}],\n",
    "            temperature=temperature\n",
    "        )\n",
    "        try:\n",
    "            val = float(response['choices'][0]['message']['content'].strip())\n",
    "            outputs.append(val)\n",
    "        except ValueError:\n",
    "            print(\"Non-numeric response received:\", response['choices'][0]['message']['content'])\n",
    "            continue\n",
    "    return outputs\n",
    "\n",
    "# Example prediction\n",
    "context = \"This is a temperature forecasting task in Montreal. Units are in Celsius.\\n\"\n",
    "training_data = \"Jan, -5\\nFeb, -3\\nMar, 2\\nApr, 10\\nMay, 16\\nJun, 20\\n\"\n",
    "query = \"Jul,\"\n",
    "\n",
    "prompt = context + training_data + query\n",
    "samples = get_prediction(prompt, samples=30)\n",
    "print(\"Predictions:\", samples)\n",
    "print(\"Median:\", np.median(samples))\n",
    "print(\"95% CI:\", np.percentile(samples, [2.5, 97.5]))\n"
   ]
  }
 ],
 "metadata": {
  "kernelspec": {
   "display_name": "3.10.0",
   "language": "python",
   "name": "python3"
  },
  "language_info": {
   "codemirror_mode": {
    "name": "ipython",
    "version": 3
   },
   "file_extension": ".py",
   "mimetype": "text/x-python",
   "name": "python",
   "nbconvert_exporter": "python",
   "pygments_lexer": "ipython3",
   "version": "3.10.0"
  }
 },
 "nbformat": 4,
 "nbformat_minor": 2
}
